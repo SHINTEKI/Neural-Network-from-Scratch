{
 "cells": [
  {
   "cell_type": "code",
   "execution_count": 46,
   "id": "6c1f45b0",
   "metadata": {},
   "outputs": [],
   "source": [
    "import numpy as np\n",
    "import pandas as pd\n",
    "from sklearn.utils import shuffle"
   ]
  },
  {
   "cell_type": "code",
   "execution_count": 47,
   "id": "6f055b78",
   "metadata": {},
   "outputs": [],
   "source": [
    "np.set_printoptions(threshold=np.inf)"
   ]
  },
  {
   "cell_type": "markdown",
   "id": "a3f16448",
   "metadata": {},
   "source": [
    "### 准备数据"
   ]
  },
  {
   "cell_type": "code",
   "execution_count": 61,
   "id": "07b6f919",
   "metadata": {},
   "outputs": [],
   "source": [
    "data = pd.read_csv(\"mnist_train.csv\")\n",
    "data = shuffle(data)\n",
    "data.iloc[:,1:] = data.iloc[:,1:] / 255 "
   ]
  },
  {
   "cell_type": "code",
   "execution_count": 62,
   "id": "b3639916",
   "metadata": {},
   "outputs": [],
   "source": [
    "train_x = np.array(data.iloc[:50000,1:]).T\n",
    "test_x = np.array(data.iloc[50000:60000,1:]).T\n",
    "train_y = np.array(data.iloc[:50000,0]).T.reshape(1,-1)\n",
    "test_y = np.array(data.iloc[50000:60000,0]).T.reshape(1,-1)"
   ]
  },
  {
   "cell_type": "code",
   "execution_count": 63,
   "id": "41d12072",
   "metadata": {},
   "outputs": [],
   "source": [
    "def onehotencoding(x):\n",
    "    x = np.broadcast_to(x,(10,x.shape[1])) \n",
    "    x_ = x.copy()\n",
    "    for i, row in enumerate(x):\n",
    "        for j, item in enumerate(row):\n",
    "            if item == i:\n",
    "                x_[i,j] = 1\n",
    "            else:\n",
    "                x_[i,j] = 0\n",
    "    return x_\n",
    "\n",
    "# 其他写法\n",
    "def one_hot_(Y):\n",
    "    one_hot_Y = np.zeros((Y.size, Y.max() + 1))\n",
    "    one_hot_Y[np.arange(Y.size), Y] = 1\n",
    "    one_hot_Y = one_hot_Y.T\n",
    "    return one_hot_Y"
   ]
  },
  {
   "cell_type": "code",
   "execution_count": 64,
   "id": "47e82cc1",
   "metadata": {},
   "outputs": [],
   "source": [
    "train_y = onehotencoding(train_y)\n",
    "test_y = onehotencoding(test_y)"
   ]
  },
  {
   "cell_type": "markdown",
   "id": "0ea01284",
   "metadata": {},
   "source": [
    "### 定义函数、参数"
   ]
  },
  {
   "cell_type": "code",
   "execution_count": 65,
   "id": "46300a0a",
   "metadata": {},
   "outputs": [],
   "source": [
    "def init_parameters():\n",
    "    w1 = np.random.uniform(low=-0.5, high=0.5, size=(10,784))\n",
    "    b1 = np.random.uniform(low=-0.5, high=0.5, size=(10,1))\n",
    "    w2 = np.random.uniform(low=-0.5, high=0.5, size=(10,10))\n",
    "    b2 = np.random.uniform(low=-0.5, high=0.5, size=(10,1))\n",
    "    return w1, b1, w2, b2"
   ]
  },
  {
   "cell_type": "code",
   "execution_count": 66,
   "id": "7dcedbbf",
   "metadata": {},
   "outputs": [],
   "source": [
    "def ReLU(x):\n",
    "    return np.maximum(0,x)\n",
    "\n",
    "def softmax(x):\n",
    "    soft_x = (np.random.rand(x.shape[0], x.shape[1])).T\n",
    "    for i, row in enumerate(x.T):\n",
    "        for j, item in enumerate(row):\n",
    "            soft_x[i,j] = np.exp(item)\n",
    "    sum_exp = np.sum(soft_x, axis = 1).reshape(-1,1)\n",
    "    for i, row in enumerate(soft_x):\n",
    "        for j, item in enumerate(row):\n",
    "            soft_x[i,j] = item / sum_exp[i]\n",
    "    soft_x = soft_x.T \n",
    "    return soft_x\n",
    "\n",
    "# 其他写法\n",
    "def softmax_1(Z):\n",
    "    A = np.exp(Z) / np.sum(np.exp(Z), axis = 0) # 对列求和\n",
    "    return A\n",
    "\n",
    "def softmax_2(Z):\n",
    "    A = np.exp(Z) / sum(np.exp(Z)) # sum默认对列求和\n",
    "    return A"
   ]
  },
  {
   "cell_type": "code",
   "execution_count": 67,
   "id": "d718fc5c",
   "metadata": {},
   "outputs": [],
   "source": [
    "def forward(x, w1, b1, w2, b2):\n",
    "    z1 = np.dot(w1, x) + b1\n",
    "    a1 = ReLU(z1)\n",
    "    z2 = np.dot(w2, a1) + b2\n",
    "    a2 = softmax(z2)\n",
    "    return a1, a2, z1, z2"
   ]
  },
  {
   "cell_type": "code",
   "execution_count": 68,
   "id": "522d8b9c",
   "metadata": {},
   "outputs": [],
   "source": [
    "def predict(a2):\n",
    "    y_pre = np.random.rand(a2.shape[0], a2.shape[1]).T\n",
    "    for n, i in enumerate(a2.T):\n",
    "        y_pre[n, np.argmax(i)] = 1\n",
    "    for j, row in enumerate(y_pre):\n",
    "        for k, column in enumerate(row):\n",
    "            if column != 1:\n",
    "                y_pre[j,k] = 0\n",
    "    y_pre = y_pre.T\n",
    "    return y_pre"
   ]
  },
  {
   "cell_type": "code",
   "execution_count": 69,
   "id": "14d90635",
   "metadata": {},
   "outputs": [],
   "source": [
    "def accuracy(y_pre, y):\n",
    "    n = 0\n",
    "    for y0, y1 in zip(y_pre.T, y.T):\n",
    "        if (y0 == y1).all():\n",
    "            n += 1\n",
    "    acc = n / y.shape[1]\n",
    "    return round(acc,5)"
   ]
  },
  {
   "cell_type": "markdown",
   "id": "20c21755",
   "metadata": {},
   "source": [
    "#### b应该是(1,n)，即每层b相同\n",
    "#### 也有人不这样做\n",
    "#### 实际上肯定是层内b不同收敛效率高"
   ]
  },
  {
   "cell_type": "code",
   "execution_count": 70,
   "id": "4a00130c",
   "metadata": {},
   "outputs": [],
   "source": [
    "def backward(a2, a1, y, x, w1, b1, w2, b2, z1, z2):\n",
    "    dz2 = (a2 - y) / x.shape[1]\n",
    "    dw2 = np.dot(dz2, a1.T) \n",
    "    db2 = np.sum(dz2, axis = 1).reshape(10,1)\n",
    "    relu_ = np.array(1 * (z1 > 0))\n",
    "    dz1 = np.dot(w2.T, dz2) * relu_\n",
    "    dw1 = np.dot(dz1, x.T) \n",
    "    db1 = np.sum(dz1, axis = 1).reshape(10,1)\n",
    "    return dw1, db1, dw2, db2"
   ]
  },
  {
   "cell_type": "code",
   "execution_count": 71,
   "id": "0c3a86e9",
   "metadata": {},
   "outputs": [],
   "source": [
    "def update_params(dw1, db1, dw2, db2, w1, b1, w2, b2, alpha):\n",
    "    w1 = w1 - alpha * dw1\n",
    "    b1 = b1 - alpha * db1\n",
    "    w2 = w2 - alpha * dw2\n",
    "    b2 = b2 - alpha * db2\n",
    "    return w1, b1, w2, b2"
   ]
  },
  {
   "cell_type": "code",
   "execution_count": 72,
   "id": "75a25985",
   "metadata": {},
   "outputs": [],
   "source": [
    "def gradient_descent(x, y, iter = 20, alpha = 0.1):\n",
    "    w1, b1, w2, b2 = init_parameters()\n",
    "    for i in range(iter):\n",
    "        a1, a2, z1, z2 = forward(x, w1, b1, w2, b2)\n",
    "        y_pre = predict(a2)\n",
    "        if i % 10 == 0:\n",
    "            print(f\"iteration :{i}, accuracy: {accuracy(y_pre, y)}\")\n",
    "        dw1, db1, dw2, db2 = backward(a2, a1, y, x, w1, b1, w2, b2, z1, z2)\n",
    "        w1, b1, w2, b2 = update_params(dw1, db1, dw2, db2, w1, b1, w2, b2, alpha)\n",
    "    return w1, b1, w2, b2"
   ]
  },
  {
   "cell_type": "code",
   "execution_count": 73,
   "id": "12ed7b16",
   "metadata": {},
   "outputs": [
    {
     "name": "stdout",
     "output_type": "stream",
     "text": [
      "iteration :0, accuracy: 0.09234\n",
      "iteration :10, accuracy: 0.22648\n",
      "iteration :20, accuracy: 0.29192\n",
      "iteration :30, accuracy: 0.33382\n",
      "iteration :40, accuracy: 0.36482\n",
      "iteration :50, accuracy: 0.3973\n",
      "iteration :60, accuracy: 0.43698\n",
      "iteration :70, accuracy: 0.47722\n",
      "iteration :80, accuracy: 0.52384\n",
      "iteration :90, accuracy: 0.57558\n",
      "iteration :100, accuracy: 0.61448\n",
      "iteration :110, accuracy: 0.64626\n",
      "iteration :120, accuracy: 0.67054\n",
      "iteration :130, accuracy: 0.69182\n",
      "iteration :140, accuracy: 0.70938\n",
      "iteration :150, accuracy: 0.72472\n",
      "iteration :160, accuracy: 0.73786\n",
      "iteration :170, accuracy: 0.7492\n",
      "iteration :180, accuracy: 0.75884\n",
      "iteration :190, accuracy: 0.7679\n",
      "iteration :200, accuracy: 0.77568\n",
      "iteration :210, accuracy: 0.78266\n",
      "iteration :220, accuracy: 0.78882\n",
      "iteration :230, accuracy: 0.79478\n",
      "iteration :240, accuracy: 0.79942\n",
      "iteration :250, accuracy: 0.80376\n",
      "iteration :260, accuracy: 0.80806\n",
      "iteration :270, accuracy: 0.81216\n",
      "iteration :280, accuracy: 0.81554\n",
      "iteration :290, accuracy: 0.81826\n",
      "iteration :300, accuracy: 0.82114\n",
      "iteration :310, accuracy: 0.82394\n",
      "iteration :320, accuracy: 0.82568\n",
      "iteration :330, accuracy: 0.82808\n",
      "iteration :340, accuracy: 0.8304\n",
      "iteration :350, accuracy: 0.83252\n",
      "iteration :360, accuracy: 0.83484\n",
      "iteration :370, accuracy: 0.83662\n",
      "iteration :380, accuracy: 0.8385\n",
      "iteration :390, accuracy: 0.84058\n",
      "iteration :400, accuracy: 0.84224\n",
      "iteration :410, accuracy: 0.84374\n",
      "iteration :420, accuracy: 0.84522\n",
      "iteration :430, accuracy: 0.8468\n",
      "iteration :440, accuracy: 0.84814\n",
      "iteration :450, accuracy: 0.8493\n",
      "iteration :460, accuracy: 0.85046\n",
      "iteration :470, accuracy: 0.85136\n",
      "iteration :480, accuracy: 0.85254\n",
      "iteration :490, accuracy: 0.85358\n"
     ]
    }
   ],
   "source": [
    "w1, b1, w2, b2 = gradient_descent(train_x, train_y, iter = 500, alpha = 0.1);"
   ]
  },
  {
   "cell_type": "code",
   "execution_count": 74,
   "id": "8e8d3d7b",
   "metadata": {},
   "outputs": [
    {
     "name": "stdout",
     "output_type": "stream",
     "text": [
      "accuracy: 0.8552\n"
     ]
    }
   ],
   "source": [
    "a1, a2, z1, z2 = forward(test_x, w1, b1, w2, b2)\n",
    "y_pre = predict(a2)\n",
    "print(f\"accuracy: {accuracy(y_pre, test_y)}\")"
   ]
  }
 ],
 "metadata": {
  "kernelspec": {
   "display_name": "test",
   "language": "python",
   "name": "python3"
  },
  "language_info": {
   "codemirror_mode": {
    "name": "ipython",
    "version": 3
   },
   "file_extension": ".py",
   "mimetype": "text/x-python",
   "name": "python",
   "nbconvert_exporter": "python",
   "pygments_lexer": "ipython3",
   "version": "3.7.15 (default, Nov 24 2022, 18:44:54) [MSC v.1916 64 bit (AMD64)]"
  },
  "vscode": {
   "interpreter": {
    "hash": "c3281d769a088ff6ce948ba1ae710aee580bc74a821065143c719180e660a81a"
   }
  }
 },
 "nbformat": 4,
 "nbformat_minor": 5
}
